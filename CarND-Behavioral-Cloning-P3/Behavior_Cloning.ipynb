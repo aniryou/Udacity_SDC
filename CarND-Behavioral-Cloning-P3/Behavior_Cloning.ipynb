{
 "cells": [
  {
   "cell_type": "code",
   "execution_count": 1,
   "metadata": {},
   "outputs": [],
   "source": [
    "import numpy as np\n",
    "import pandas as pd"
   ]
  },
  {
   "cell_type": "code",
   "execution_count": 38,
   "metadata": {},
   "outputs": [],
   "source": [
    "DATA_DIR = \"./data/\""
   ]
  },
  {
   "cell_type": "code",
   "execution_count": 39,
   "metadata": {},
   "outputs": [],
   "source": [
    "df = pd.read_csv(DATA_DIR + \"driving_log.csv\")"
   ]
  },
  {
   "cell_type": "code",
   "execution_count": 40,
   "metadata": {},
   "outputs": [
    {
     "data": {
      "text/html": [
       "<div>\n",
       "<style scoped>\n",
       "    .dataframe tbody tr th:only-of-type {\n",
       "        vertical-align: middle;\n",
       "    }\n",
       "\n",
       "    .dataframe tbody tr th {\n",
       "        vertical-align: top;\n",
       "    }\n",
       "\n",
       "    .dataframe thead th {\n",
       "        text-align: right;\n",
       "    }\n",
       "</style>\n",
       "<table border=\"1\" class=\"dataframe\">\n",
       "  <thead>\n",
       "    <tr style=\"text-align: right;\">\n",
       "      <th></th>\n",
       "      <th>center</th>\n",
       "      <th>left</th>\n",
       "      <th>right</th>\n",
       "      <th>steering</th>\n",
       "      <th>throttle</th>\n",
       "      <th>brake</th>\n",
       "      <th>speed</th>\n",
       "    </tr>\n",
       "  </thead>\n",
       "  <tbody>\n",
       "    <tr>\n",
       "      <th>0</th>\n",
       "      <td>IMG/center_2016_12_01_13_30_48_287.jpg</td>\n",
       "      <td>IMG/left_2016_12_01_13_30_48_287.jpg</td>\n",
       "      <td>IMG/right_2016_12_01_13_30_48_287.jpg</td>\n",
       "      <td>0.0</td>\n",
       "      <td>0.0</td>\n",
       "      <td>0.0</td>\n",
       "      <td>22.148290</td>\n",
       "    </tr>\n",
       "    <tr>\n",
       "      <th>1</th>\n",
       "      <td>IMG/center_2016_12_01_13_30_48_404.jpg</td>\n",
       "      <td>IMG/left_2016_12_01_13_30_48_404.jpg</td>\n",
       "      <td>IMG/right_2016_12_01_13_30_48_404.jpg</td>\n",
       "      <td>0.0</td>\n",
       "      <td>0.0</td>\n",
       "      <td>0.0</td>\n",
       "      <td>21.879630</td>\n",
       "    </tr>\n",
       "    <tr>\n",
       "      <th>2</th>\n",
       "      <td>IMG/center_2016_12_01_13_31_12_937.jpg</td>\n",
       "      <td>IMG/left_2016_12_01_13_31_12_937.jpg</td>\n",
       "      <td>IMG/right_2016_12_01_13_31_12_937.jpg</td>\n",
       "      <td>0.0</td>\n",
       "      <td>0.0</td>\n",
       "      <td>0.0</td>\n",
       "      <td>1.453011</td>\n",
       "    </tr>\n",
       "    <tr>\n",
       "      <th>3</th>\n",
       "      <td>IMG/center_2016_12_01_13_31_13_037.jpg</td>\n",
       "      <td>IMG/left_2016_12_01_13_31_13_037.jpg</td>\n",
       "      <td>IMG/right_2016_12_01_13_31_13_037.jpg</td>\n",
       "      <td>0.0</td>\n",
       "      <td>0.0</td>\n",
       "      <td>0.0</td>\n",
       "      <td>1.438419</td>\n",
       "    </tr>\n",
       "    <tr>\n",
       "      <th>4</th>\n",
       "      <td>IMG/center_2016_12_01_13_31_13_177.jpg</td>\n",
       "      <td>IMG/left_2016_12_01_13_31_13_177.jpg</td>\n",
       "      <td>IMG/right_2016_12_01_13_31_13_177.jpg</td>\n",
       "      <td>0.0</td>\n",
       "      <td>0.0</td>\n",
       "      <td>0.0</td>\n",
       "      <td>1.418236</td>\n",
       "    </tr>\n",
       "  </tbody>\n",
       "</table>\n",
       "</div>"
      ],
      "text/plain": [
       "                                   center  \\\n",
       "0  IMG/center_2016_12_01_13_30_48_287.jpg   \n",
       "1  IMG/center_2016_12_01_13_30_48_404.jpg   \n",
       "2  IMG/center_2016_12_01_13_31_12_937.jpg   \n",
       "3  IMG/center_2016_12_01_13_31_13_037.jpg   \n",
       "4  IMG/center_2016_12_01_13_31_13_177.jpg   \n",
       "\n",
       "                                    left  \\\n",
       "0   IMG/left_2016_12_01_13_30_48_287.jpg   \n",
       "1   IMG/left_2016_12_01_13_30_48_404.jpg   \n",
       "2   IMG/left_2016_12_01_13_31_12_937.jpg   \n",
       "3   IMG/left_2016_12_01_13_31_13_037.jpg   \n",
       "4   IMG/left_2016_12_01_13_31_13_177.jpg   \n",
       "\n",
       "                                    right  steering  throttle  brake  \\\n",
       "0   IMG/right_2016_12_01_13_30_48_287.jpg       0.0       0.0    0.0   \n",
       "1   IMG/right_2016_12_01_13_30_48_404.jpg       0.0       0.0    0.0   \n",
       "2   IMG/right_2016_12_01_13_31_12_937.jpg       0.0       0.0    0.0   \n",
       "3   IMG/right_2016_12_01_13_31_13_037.jpg       0.0       0.0    0.0   \n",
       "4   IMG/right_2016_12_01_13_31_13_177.jpg       0.0       0.0    0.0   \n",
       "\n",
       "       speed  \n",
       "0  22.148290  \n",
       "1  21.879630  \n",
       "2   1.453011  \n",
       "3   1.438419  \n",
       "4   1.418236  "
      ]
     },
     "execution_count": 40,
     "metadata": {},
     "output_type": "execute_result"
    }
   ],
   "source": [
    "df.head()"
   ]
  },
  {
   "cell_type": "code",
   "execution_count": 54,
   "metadata": {},
   "outputs": [],
   "source": [
    "from sklearn.utils import shuffle\n",
    "from sklearn.cross_validation import train_test_split\n",
    "\n",
    "df_train, df_test = train_test_split(df, test_size=0.3)\n",
    "df_train, df_valid = train_test_split(df_train, test_size=0.2)\n",
    "\n",
    "def melt(df):\n",
    "    lst_images, lst_steering = [], []\n",
    "    for _, row in df.iterrows():\n",
    "        # if row['steering']!=0:\n",
    "        lst_images.append(row['center'])\n",
    "        lst_steering.append(row['steering'])\n",
    "        # lst_images.append(row['left'])\n",
    "        # lst_steering.append(row['steering'] + 0.2)\n",
    "        # lst_images.append(row['right'])\n",
    "        # lst_steering.append(row['steering'] - 0.2)\n",
    "    return pd.DataFrame({\"center\": lst_images, \"steering\": lst_steering})\n",
    "        \n",
    "df_train = melt(df_train)"
   ]
  },
  {
   "cell_type": "code",
   "execution_count": 55,
   "metadata": {},
   "outputs": [],
   "source": [
    "import imageio\n",
    "    \n",
    "def generate_data(df, batch_size, flip_thresh=1.0):\n",
    "    ix = df.index\n",
    "    while True:\n",
    "        ix = np.random.permutation(ix)\n",
    "        for offset in range(0, df.shape[0], batch_size):\n",
    "            ix_batch = ix[offset:offset+batch_size]\n",
    "            flip_prob = np.random.rand(batch_size)\n",
    "            lst_images, lst_labels = [], []\n",
    "            for i, loc in enumerate(ix_batch):\n",
    "                fpath = df.at[loc, 'center']\n",
    "                img = imageio.imread(DATA_DIR + fpath.strip())\n",
    "                # img = imageio.imread(fpath.strip())\n",
    "                label = df.at[loc, 'steering']\n",
    "                if flip_prob[i] > flip_thresh:\n",
    "                    img = np.fliplr(img)\n",
    "                    label *= -1\n",
    "                lst_images.append(img)\n",
    "                lst_labels.append(label)\n",
    "            images = np.asarray(lst_images)\n",
    "            labels = np.asarray(lst_labels)\n",
    "            yield images, labels\n"
   ]
  },
  {
   "cell_type": "code",
   "execution_count": 56,
   "metadata": {
    "scrolled": false
   },
   "outputs": [],
   "source": [
    "batch_size = 32\n",
    "\n",
    "generator_train = generate_data(df_train, batch_size, flip_thresh=0.5)\n",
    "generator_valid = generate_data(df_valid, batch_size)\n",
    "generator_test = generate_data(df_test, batch_size)"
   ]
  },
  {
   "cell_type": "code",
   "execution_count": 57,
   "metadata": {
    "scrolled": false
   },
   "outputs": [
    {
     "name": "stdout",
     "output_type": "stream",
     "text": [
      "(32,)\n",
      "(32, 160, 320, 3)\n"
     ]
    }
   ],
   "source": [
    "X_train, y_train = next(generator_train)\n",
    "\n",
    "print(y_train.shape)\n",
    "print(X_train.shape)"
   ]
  },
  {
   "cell_type": "code",
   "execution_count": 58,
   "metadata": {},
   "outputs": [
    {
     "name": "stdout",
     "output_type": "stream",
     "text": [
      "-0.0\n"
     ]
    },
    {
     "data": {
      "image/png": "[encoded data removed]",
      "text/plain": [
       "<Figure size 432x288 with 1 Axes>"
      ]
     },
     "metadata": {},
     "output_type": "display_data"
    }
   ],
   "source": [
    "%matplotlib inline\n",
    "import matplotlib.pyplot as plt\n",
    "\n",
    "def clip(img):\n",
    "    return img[70:-30,:,:]\n",
    "\n",
    "def normalize(img):\n",
    "    return img / 255. - 0.5\n",
    "\n",
    "\n",
    "print(y_train[0])\n",
    "plt.imshow(X_train[0]);\n",
    "plt.imshow(clip(X_train[0]));"
   ]
  },
  {
   "cell_type": "code",
   "execution_count": 59,
   "metadata": {},
   "outputs": [],
   "source": [
    "from keras.models import Sequential\n",
    "from keras.layers import Cropping2D, Lambda, Conv2D, BatchNormalization, Activation, MaxPooling2D\n",
    "from keras.layers import Dropout, Flatten, Dense"
   ]
  },
  {
   "cell_type": "code",
   "execution_count": 60,
   "metadata": {},
   "outputs": [],
   "source": [
    "model = Sequential()\n",
    "model.add(Lambda(normalize, input_shape=(160, 320, 3)))\n",
    "model.add(Cropping2D(((70,30), (0,0))))\n",
    "model.add(Conv2D(6, 5, 5))\n",
    "model.add(BatchNormalization())\n",
    "model.add(Activation('relu'))\n",
    "model.add(MaxPooling2D())\n",
    "model.add(Conv2D(10, 5, 5))\n",
    "model.add(BatchNormalization())\n",
    "model.add(Activation('relu'))\n",
    "model.add(MaxPooling2D())\n",
    "model.add(Conv2D(16, 5, 5, activation='relu', input_shape=(160, 320, 3)))\n",
    "model.add(BatchNormalization())\n",
    "model.add(Activation('relu'))\n",
    "model.add(MaxPooling2D())\n",
    "model.add(Flatten())\n",
    "model.add(Dense(100))\n",
    "model.add(BatchNormalization())\n",
    "model.add(Activation('relu'))\n",
    "model.add(Dropout(0.5))\n",
    "model.add(Dense(84))\n",
    "model.add(BatchNormalization())\n",
    "model.add(Activation('relu'))\n",
    "model.add(Dropout(0.5))\n",
    "model.add(Dense(1, activation='linear'))\n",
    "\n",
    "model.compile(optimizer='adam', loss='mse')"
   ]
  },
  {
   "cell_type": "code",
   "execution_count": 61,
   "metadata": {},
   "outputs": [],
   "source": [
    "# model.save('model2.h5')"
   ]
  },
  {
   "cell_type": "code",
   "execution_count": 62,
   "metadata": {},
   "outputs": [],
   "source": [
    "model.load_weights('model2.h5')"
   ]
  },
  {
   "cell_type": "code",
   "execution_count": 63,
   "metadata": {
    "scrolled": false
   },
   "outputs": [
    {
     "name": "stdout",
     "output_type": "stream",
     "text": [
      "Epoch 1/20\n",
      "4500/4500 [==============================] - 123s - loss: 0.0132 - val_loss: 0.0122\n",
      "Epoch 2/20\n",
      "4500/4500 [==============================] - 176s - loss: 0.0110 - val_loss: 0.0138\n",
      "Epoch 3/20\n",
      "4500/4500 [==============================] - 157s - loss: 0.0109 - val_loss: 0.0123\n",
      "Epoch 4/20\n",
      "4500/4500 [==============================] - 142s - loss: 0.0107 - val_loss: 0.0112\n",
      "Epoch 5/20\n",
      "4500/4500 [==============================] - 171s - loss: 0.0103 - val_loss: 0.0106\n",
      "Epoch 6/20\n",
      "4500/4500 [==============================] - 179s - loss: 0.0104 - val_loss: 0.0120\n",
      "Epoch 7/20\n",
      "4500/4500 [==============================] - 187s - loss: 0.0102 - val_loss: 0.0123\n",
      "Epoch 8/20\n",
      "4500/4500 [==============================] - 132s - loss: 0.0101 - val_loss: 0.0120\n",
      "Epoch 9/20\n",
      "4500/4500 [==============================] - 149s - loss: 0.0099 - val_loss: 0.0112\n",
      "Epoch 10/20\n",
      "4500/4500 [==============================] - 179s - loss: 0.0098 - val_loss: 0.0119\n",
      "Epoch 11/20\n",
      "4500/4500 [==============================] - 170s - loss: 0.0096 - val_loss: 0.0127\n",
      "Epoch 12/20\n",
      "4500/4500 [==============================] - 174s - loss: 0.0096 - val_loss: 0.0116\n",
      "Epoch 13/20\n",
      "4500/4500 [==============================] - 196s - loss: 0.0094 - val_loss: 0.0108\n",
      "Epoch 14/20\n",
      "4500/4500 [==============================] - 175s - loss: 0.0093 - val_loss: 0.0108\n",
      "Epoch 15/20\n",
      "4500/4500 [==============================] - 192s - loss: 0.0093 - val_loss: 0.0119\n",
      "Epoch 16/20\n",
      "4500/4500 [==============================] - 177s - loss: 0.0091 - val_loss: 0.0114\n",
      "Epoch 17/20\n",
      "4500/4500 [==============================] - 176s - loss: 0.0090 - val_loss: 0.0130\n",
      "Epoch 18/20\n",
      "4500/4500 [==============================] - 175s - loss: 0.0090 - val_loss: 0.0115\n",
      "Epoch 19/20\n",
      "4500/4500 [==============================] - 174s - loss: 0.0088 - val_loss: 0.0113\n",
      "Epoch 20/20\n",
      "4500/4500 [==============================] - 218s - loss: 0.0089 - val_loss: 0.0110\n"
     ]
    },
    {
     "data": {
      "text/plain": [
       "<keras.callbacks.History at 0x12ebf2860>"
      ]
     },
     "execution_count": 63,
     "metadata": {},
     "output_type": "execute_result"
    }
   ],
   "source": [
    "model.fit_generator(generator_train, samples_per_epoch=df_train.shape[0], nb_epoch=20,\n",
    "                    validation_data=generator_valid, nb_val_samples=df_valid.shape[0])"
   ]
  },
  {
   "cell_type": "code",
   "execution_count": 64,
   "metadata": {},
   "outputs": [],
   "source": [
    "model.save('model3.h5')"
   ]
  },
  {
   "cell_type": "code",
   "execution_count": null,
   "metadata": {},
   "outputs": [],
   "source": []
  }
 ],
 "metadata": {
  "kernelspec": {
   "display_name": "Python 3",
   "language": "python",
   "name": "python3"
  },
  "language_info": {
   "codemirror_mode": {
    "name": "ipython",
    "version": 3
   },
   "file_extension": ".py",
   "mimetype": "text/x-python",
   "name": "python",
   "nbconvert_exporter": "python",
   "pygments_lexer": "ipython3",
   "version": "3.5.2"
  },
  "widgets": {
   "state": {},
   "version": "1.1.2"
  }
 },
 "nbformat": 4,
 "nbformat_minor": 2
}
